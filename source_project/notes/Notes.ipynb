{
 "cells": [
  {
   "cell_type": "markdown",
   "metadata": {},
   "source": [
    "### Features using:\n",
    "* `'google_word_emb'`: Average of Google Word Embedding Vectors\n",
    "* `'unigram'`: One-hot Encoding of Word\n",
    "* `'bigram'`: One-hot Encoding of 2-gram words\n",
    "\n",
    "### Features to try:\n",
    "* `rf_unigram, rf_bigram`: unigram, bigram with weight \n",
    "$$w = \\max\\big(\\ln(2 + \\frac{c_+}{\\max(1, c_-)}), \\ln(2 + \\frac{c_-}{\\max(1, c_+)})\\big)$$"
   ]
  },
  {
   "cell_type": "markdown",
   "metadata": {},
   "source": [
    "## Contest: FiQA-2018\n",
    "\n",
    "### links\n",
    "* [website](https://sites.google.com/view/fiqa/home)\n",
    "* [google_group](https://groups.google.com/forum/#!forum/fiqa-2018)\n",
    "* [Task 1 training data](https://drive.google.com/open?id=1Lt2qN8NQT7odNS5BSQgUtRIKnzZ9R1Lv)\n",
    "* [Task 2 training data](https://drive.google.com/open?id=1CVk_7mkB_f0G8TmDgvbhg08bxbrYlxKm)\n",
    "\n",
    "### Tasks\n",
    "#### Task 1: Aspect-based financial sentiment analysis\n",
    "  Given a text instance in the financial domain (microblog message, news statement or headline) in English, detect the target aspects which are mentioned in the text (from a pre-defined list of aspect classes) and predict the sentiment score for each of the mentioned targets. Sentiment scores will be defined using continuous numeric values ranged from -1(negative) to 1(positive). 2000 annotated financial statements will be made available. \n",
    "  Systems will be evaluated with regard to aspect classification, sentiment classification and aspect-sentiment attachment. Participating systems will be evaluated with regard to precision, recall and F1-score for aspect classification approaches and regard to MSE and R Squared($R^2$) metrics for sentiment prediction approaches.\n",
    "An example of the input/output of the task is defined below:\n",
    "```json\n",
    "   \"data\": \"Cantor Fitzgerald Sticks to Its  Buy Rating for Amazon $AMZN\", \n",
    "    \"language\": \"en\", \n",
    "    \"targets\": {\n",
    "        \"amzn\": {\n",
    "            \"sentiment_score\": \"0.334\",\n",
    "            \"aspect\" : \"insider_buying\"\n",
    "        }\n",
    "    }\n",
    "```\n",
    "\n",
    "#### Task 2: Opinion-based QA over financial data\n",
    "(not interested)"
   ]
  },
  {
   "cell_type": "markdown",
   "metadata": {},
   "source": [
    "### Next Plan:\n",
    "\n",
    "* Try Stock Prediction with tweet & headline sentiment distribution fed."
   ]
  },
  {
   "cell_type": "code",
   "execution_count": null,
   "metadata": {},
   "outputs": [],
   "source": []
  }
 ],
 "metadata": {
  "kernelspec": {
   "display_name": "Python 3",
   "language": "python",
   "name": "python3"
  },
  "language_info": {
   "codemirror_mode": {
    "name": "ipython",
    "version": 3
   },
   "file_extension": ".py",
   "mimetype": "text/x-python",
   "name": "python",
   "nbconvert_exporter": "python",
   "pygments_lexer": "ipython3",
   "version": "3.4.3"
  }
 },
 "nbformat": 4,
 "nbformat_minor": 2
}
