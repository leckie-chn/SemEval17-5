{
 "cells": [
  {
   "cell_type": "code",
   "execution_count": 1,
   "metadata": {},
   "outputs": [
    {
     "name": "stderr",
     "output_type": "stream",
     "text": [
      "Using TensorFlow backend.\n"
     ]
    },
    {
     "name": "stdout",
     "output_type": "stream",
     "text": [
      "..\n"
     ]
    }
   ],
   "source": [
    "import os\n",
    "import sys\n",
    "\n",
    "sys.path.append('../')\n",
    "\n",
    "from experiments.microblog_deep import *\n",
    "from sklearn.model_selection import GridSearchCV, RandomizedSearchCV\n",
    "from sklearn.svm import SVR, LinearSVR\n",
    "\n",
    "import numpy as np\n",
    "import pandas as pd"
   ]
  },
  {
   "cell_type": "code",
   "execution_count": 2,
   "metadata": {},
   "outputs": [],
   "source": [
    "config.features_to_use_mb = [\n",
    "    'google_word_emb',\n",
    "    'unigram',\n",
    "    'bigram',\n",
    "]"
   ]
  },
  {
   "cell_type": "markdown",
   "metadata": {},
   "source": [
    "### Features using:\n",
    "* `'google_word_emb'`: Average of Google Word Embedding Vectors\n",
    "* `'unigram'`: One-hot Encoding of Word\n",
    "* `'bigram'`: One-hot Encoding of 2-gram words\n",
    "\n",
    "### Features to try:\n",
    "* `rf_unigram, rf_bigram`: unigram, bigram with weight \n",
    "$$w = \\max\\big(\\ln(2 + \\frac{c_+}{\\max(1, c_-)}), \\ln(2 + \\frac{c_-}{\\max(1, c_+)})\\big)$$"
   ]
  },
  {
   "cell_type": "code",
   "execution_count": 3,
   "metadata": {},
   "outputs": [
    {
     "name": "stdout",
     "output_type": "stream",
     "text": [
      "shape of X: (1633, 18)\n",
      "\n",
      "---------------------------------------------\n",
      "Loading google_word_emb from  /home/niyan/SemEval17-05-kar/data/vectors_hl_new/hl_google_word_emb.pkl\n",
      "Shape =  (1633, 300), type = <class 'numpy.ndarray'>\n",
      "---------------------------------------------\n",
      "\n",
      "---------------------------------------------\n",
      "Loading unigram from  /home/niyan/SemEval17-05-kar/data/vectors_hl_new/hl_unigram.pkl\n",
      "Shape =  (1633, 2236), type = <class 'numpy.ndarray'>\n",
      "---------------------------------------------\n",
      "\n",
      "---------------------------------------------\n",
      "Loading bigram from  /home/niyan/SemEval17-05-kar/data/vectors_hl_new/hl_bigram.pkl\n",
      "Shape =  (1633, 6651), type = <class 'numpy.ndarray'>\n",
      "---------------------------------------------\n",
      "shape of features: (1633, 9187)\n",
      "\n",
      "shape of y: (1633, 1)\n"
     ]
    }
   ],
   "source": [
    "# loading data...\n",
    "X = joblib.load(config.DUMPED_VECTOR_DIR_HL + 'hl_sequences.pkl')\n",
    "print('shape of X:', np.shape(X))\n",
    "features, fmap = get_features('hl')\n",
    "print('shape of features:', np.shape(features), end='\\n\\n')\n",
    "y = joblib.load(os.path.join(config.DATA_DIR, 'vectors_hl_new', 'hl_scores.pkl'))\n",
    "print('shape of y:', np.shape(y))"
   ]
  },
  {
   "cell_type": "code",
   "execution_count": 4,
   "metadata": {},
   "outputs": [],
   "source": [
    "# split data\n",
    "n_train = 1142\n",
    "X_train, X_dev, X_test, Y_train, Y_dev, Y_test = X[:n_train], X, X[n_train:], y[:n_train], y, y[n_train:]\n",
    "ft_train, ft_dev, ft_test = features[:n_train], features, features[n_train:] "
   ]
  },
  {
   "cell_type": "code",
   "execution_count": 5,
   "metadata": {},
   "outputs": [],
   "source": [
    "def cos_scorer(y, y_pred):\n",
    "    return cosine_similarity(np.reshape(y, (1, -1)), np.reshape(y_pred, (1, -1)))"
   ]
  },
  {
   "cell_type": "markdown",
   "metadata": {},
   "source": [
    "### experiment for SVM model:"
   ]
  },
  {
   "cell_type": "code",
   "execution_count": null,
   "metadata": {},
   "outputs": [],
   "source": [
    "p_grid = {'C': [0.5, 1.0, 2.0, 5.0, 10.0, 20.0, ],\n",
    "          'epsilon': [1e-3, 5e-3, 1e-2, 5e-2, 0.1, 0.5],\n",
    "          'gamma': [1e-4, 5e-4, 1e-3, 0.005, 0.01, 0.05, 0.1, 0.5, 1.0]}\n",
    "model = SVR()\n",
    "best_model = RandomizedSearchCV(model, param_distributions=p_grid, cv=6, n_iter=200, verbose=1, n_jobs=6, \n",
    "                          scoring=make_scorer(cos_scorer))\n",
    "_ = best_model.fit(ft_train, Y_train)"
   ]
  },
  {
   "cell_type": "code",
   "execution_count": null,
   "metadata": {},
   "outputs": [],
   "source": [
    "print(\"best param: \", best_model.best_params_)\n",
    "print(\"best score: \", best_model.best_score_)\n",
    "pd.DataFrame(best_model.cv_results_).sort_values(by=['mean_test_score'])"
   ]
  },
  {
   "cell_type": "markdown",
   "metadata": {},
   "source": [
    "* SVM Result: \n",
    "    * best param:  `{'C': 2.0, 'gamma': 0.1, 'epsilon': 0.01}`\n",
    "    * best cv score:  0.683590272578\n",
    "    * test score: 0.695948522005"
   ]
  },
  {
   "cell_type": "code",
   "execution_count": null,
   "metadata": {},
   "outputs": [],
   "source": [
    "Y_pred = best_model.predict(ft_test)\n",
    "score_ts = cosine_similarity(np.reshape(Y_test, (1, -1)), np.reshape(Y_pred, (1, -1)))\n",
    "print(\"cosine score on test data: \", score_ts[0][0])"
   ]
  },
  {
   "cell_type": "markdown",
   "metadata": {},
   "source": [
    "### experiment for Deep Learning Model:"
   ]
  },
  {
   "cell_type": "code",
   "execution_count": 6,
   "metadata": {},
   "outputs": [],
   "source": [
    "from experiments.headline_deep import *\n",
    "from keras.wrappers.scikit_learn import KerasRegressor"
   ]
  },
  {
   "cell_type": "code",
   "execution_count": 7,
   "metadata": {},
   "outputs": [],
   "source": [
    "def nn_model():\n",
    "    embedding_weights = joblib.load(config.DUMPED_VECTOR_DIR + 'hl_voc_embeddings_prs.pkl')\n",
    "    print(embedding_weights.shape)\n",
    "    model = Sequential()\n",
    "    model.add(Embedding(max_features,\n",
    "                        embedding_dims,\n",
    "                        input_length=max_len,\n",
    "                        weights=[embedding_weights],\n",
    "                        trainable=False))\n",
    "    model.add(Conv1D(256, 3, activation='relu'))\n",
    "    model.add(MaxPooling1D(pool_size=16))\n",
    "    model.add(Flatten())\n",
    "    model.add(Dropout(rate=0.8))\n",
    "    model.add(Dense(50, activation='tanh'))\n",
    "    model.add(Dropout(rate=0.5))\n",
    "    model.add(Dense(1, init='normal', activation='tanh'))\n",
    "\n",
    "    model.compile(loss='mean_squared_error', optimizer='adam')\n",
    "    # model.compile(loss='cosine_proximity', optimizer='rmsprop', metrics={'output_a': cosine_similarity})\n",
    "    # model.compile(loss=compile_cos_sim_theano, optimizer='adam', metrics=[compile_cos_sim_theano])\n",
    "    print(model.summary())\n",
    "\n",
    "    return model"
   ]
  },
  {
   "cell_type": "code",
   "execution_count": 14,
   "metadata": {},
   "outputs": [],
   "source": [
    "config.DUMPED_VECTOR_DIR = config.DUMPED_VECTOR_DIR_HL\n",
    "model = KerasRegressor(build_fn=nn_model, epochs=100, batch_size=BATCH_SIZE, verbose=1)"
   ]
  },
  {
   "cell_type": "code",
   "execution_count": 15,
   "metadata": {},
   "outputs": [
    {
     "name": "stdout",
     "output_type": "stream",
     "text": [
      "(3301, 300)\n",
      "_________________________________________________________________\n",
      "Layer (type)                 Output Shape              Param #   \n",
      "=================================================================\n",
      "embedding_4 (Embedding)      (None, 18, 300)           990300    \n",
      "_________________________________________________________________\n",
      "conv1d_4 (Conv1D)            (None, 16, 256)           230656    \n",
      "_________________________________________________________________\n",
      "max_pooling1d_4 (MaxPooling1 (None, 1, 256)            0         \n",
      "_________________________________________________________________\n",
      "flatten_4 (Flatten)          (None, 256)               0         \n",
      "_________________________________________________________________\n",
      "dropout_7 (Dropout)          (None, 256)               0         \n",
      "_________________________________________________________________\n",
      "dense_7 (Dense)              (None, 50)                12850     \n",
      "_________________________________________________________________\n",
      "dropout_8 (Dropout)          (None, 50)                0         \n",
      "_________________________________________________________________\n",
      "dense_8 (Dense)              (None, 1)                 51        \n",
      "=================================================================\n",
      "Total params: 1,233,857\n",
      "Trainable params: 243,557\n",
      "Non-trainable params: 990,300\n",
      "_________________________________________________________________\n",
      "None\n",
      "Epoch 1/100\n",
      "1142/1142 [==============================] - 1s 475us/step - loss: 0.1845\n",
      "Epoch 2/100\n",
      "1142/1142 [==============================] - 0s 126us/step - loss: 0.1519\n",
      "Epoch 3/100\n",
      "1142/1142 [==============================] - 0s 98us/step - loss: 0.1397\n",
      "Epoch 4/100\n",
      "1142/1142 [==============================] - 0s 87us/step - loss: 0.1156\n",
      "Epoch 5/100\n",
      "1142/1142 [==============================] - 0s 90us/step - loss: 0.1033\n",
      "Epoch 6/100\n",
      "1142/1142 [==============================] - 0s 95us/step - loss: 0.0974\n",
      "Epoch 7/100\n",
      "1142/1142 [==============================] - 0s 96us/step - loss: 0.0873\n",
      "Epoch 8/100\n",
      "1142/1142 [==============================] - 0s 90us/step - loss: 0.0802\n",
      "Epoch 9/100\n",
      "1142/1142 [==============================] - 0s 87us/step - loss: 0.0717\n",
      "Epoch 10/100\n",
      "1142/1142 [==============================] - 0s 91us/step - loss: 0.0611\n",
      "Epoch 11/100\n",
      "1142/1142 [==============================] - 0s 113us/step - loss: 0.0619\n",
      "Epoch 12/100\n",
      "1142/1142 [==============================] - 0s 103us/step - loss: 0.0542\n",
      "Epoch 13/100\n",
      "1142/1142 [==============================] - 0s 87us/step - loss: 0.0538\n",
      "Epoch 14/100\n",
      "1142/1142 [==============================] - 0s 87us/step - loss: 0.0539\n",
      "Epoch 15/100\n",
      "1142/1142 [==============================] - 0s 90us/step - loss: 0.0502\n",
      "Epoch 16/100\n",
      "1142/1142 [==============================] - 0s 85us/step - loss: 0.0468\n",
      "Epoch 17/100\n",
      "1142/1142 [==============================] - 0s 85us/step - loss: 0.0419\n",
      "Epoch 18/100\n",
      "1142/1142 [==============================] - 0s 86us/step - loss: 0.0406\n",
      "Epoch 19/100\n",
      "1142/1142 [==============================] - 0s 104us/step - loss: 0.0431\n",
      "Epoch 20/100\n",
      "1142/1142 [==============================] - 0s 105us/step - loss: 0.0440\n",
      "Epoch 21/100\n",
      "1142/1142 [==============================] - 0s 95us/step - loss: 0.0408\n",
      "Epoch 22/100\n",
      "1142/1142 [==============================] - 0s 88us/step - loss: 0.0391\n",
      "Epoch 23/100\n",
      "1142/1142 [==============================] - 0s 87us/step - loss: 0.0369\n",
      "Epoch 24/100\n",
      "1142/1142 [==============================] - 0s 89us/step - loss: 0.0376\n",
      "Epoch 25/100\n",
      "1142/1142 [==============================] - 0s 98us/step - loss: 0.0371\n",
      "Epoch 26/100\n",
      "1142/1142 [==============================] - 0s 96us/step - loss: 0.0345\n",
      "Epoch 27/100\n",
      "1142/1142 [==============================] - 0s 92us/step - loss: 0.0372\n",
      "Epoch 28/100\n",
      "1142/1142 [==============================] - 0s 92us/step - loss: 0.0328\n",
      "Epoch 29/100\n",
      "1142/1142 [==============================] - 0s 85us/step - loss: 0.0318\n",
      "Epoch 30/100\n",
      "1142/1142 [==============================] - 0s 86us/step - loss: 0.0309\n",
      "Epoch 31/100\n",
      "1142/1142 [==============================] - 0s 89us/step - loss: 0.0351\n",
      "Epoch 32/100\n",
      "1142/1142 [==============================] - 0s 86us/step - loss: 0.0341\n",
      "Epoch 33/100\n",
      "1142/1142 [==============================] - 0s 87us/step - loss: 0.0313\n",
      "Epoch 34/100\n",
      "1142/1142 [==============================] - 0s 87us/step - loss: 0.0309\n",
      "Epoch 35/100\n",
      "1142/1142 [==============================] - 0s 84us/step - loss: 0.0293: 0s - loss: 0.027\n",
      "Epoch 36/100\n",
      "1142/1142 [==============================] - ETA: 0s - loss: 0.018 - ETA: 0s - loss: 0.027 - 0s 89us/step - loss: 0.0281\n",
      "Epoch 37/100\n",
      "1142/1142 [==============================] - 0s 88us/step - loss: 0.0318\n",
      "Epoch 38/100\n",
      "1142/1142 [==============================] - ETA: 0s - loss: 0.028 - 0s 89us/step - loss: 0.0296\n",
      "Epoch 39/100\n",
      "1142/1142 [==============================] - 0s 85us/step - loss: 0.0280\n",
      "Epoch 40/100\n",
      "1142/1142 [==============================] - 0s 89us/step - loss: 0.0307\n",
      "Epoch 41/100\n",
      "1142/1142 [==============================] - 0s 92us/step - loss: 0.0286\n",
      "Epoch 42/100\n",
      "1142/1142 [==============================] - 0s 92us/step - loss: 0.0280\n",
      "Epoch 43/100\n",
      "1142/1142 [==============================] - 0s 92us/step - loss: 0.0293\n",
      "Epoch 44/100\n",
      "1142/1142 [==============================] - 0s 93us/step - loss: 0.0275\n",
      "Epoch 45/100\n",
      "1142/1142 [==============================] - 0s 107us/step - loss: 0.0301\n",
      "Epoch 46/100\n",
      "1142/1142 [==============================] - 0s 102us/step - loss: 0.0277\n",
      "Epoch 47/100\n",
      "1142/1142 [==============================] - 0s 118us/step - loss: 0.0286\n",
      "Epoch 48/100\n",
      "1142/1142 [==============================] - 0s 118us/step - loss: 0.0281\n",
      "Epoch 49/100\n",
      "1142/1142 [==============================] - 0s 98us/step - loss: 0.0274\n",
      "Epoch 50/100\n",
      "1142/1142 [==============================] - 0s 88us/step - loss: 0.0269\n",
      "Epoch 51/100\n",
      "1142/1142 [==============================] - 0s 86us/step - loss: 0.0256\n",
      "Epoch 52/100\n",
      "1142/1142 [==============================] - 0s 84us/step - loss: 0.0247\n",
      "Epoch 53/100\n",
      "1142/1142 [==============================] - 0s 84us/step - loss: 0.0272\n",
      "Epoch 54/100\n",
      "1142/1142 [==============================] - 0s 82us/step - loss: 0.0276\n",
      "Epoch 55/100\n",
      "1142/1142 [==============================] - 0s 90us/step - loss: 0.0238\n",
      "Epoch 56/100\n",
      "1142/1142 [==============================] - 0s 89us/step - loss: 0.0266\n",
      "Epoch 57/100\n",
      "1142/1142 [==============================] - 0s 106us/step - loss: 0.0257\n",
      "Epoch 58/100\n",
      "1142/1142 [==============================] - 0s 97us/step - loss: 0.0266\n",
      "Epoch 59/100\n",
      "1142/1142 [==============================] - 0s 92us/step - loss: 0.0256\n",
      "Epoch 60/100\n",
      "1142/1142 [==============================] - 0s 108us/step - loss: 0.0252\n",
      "Epoch 61/100\n",
      "1142/1142 [==============================] - 0s 100us/step - loss: 0.0249\n",
      "Epoch 62/100\n",
      "1142/1142 [==============================] - 0s 92us/step - loss: 0.0256\n",
      "Epoch 63/100\n",
      "1142/1142 [==============================] - 0s 89us/step - loss: 0.0256\n",
      "Epoch 64/100\n",
      "1142/1142 [==============================] - 0s 94us/step - loss: 0.0249\n",
      "Epoch 65/100\n",
      "1142/1142 [==============================] - 0s 111us/step - loss: 0.0253\n",
      "Epoch 66/100\n",
      "1142/1142 [==============================] - 0s 102us/step - loss: 0.0247\n",
      "Epoch 67/100\n",
      "1142/1142 [==============================] - 0s 98us/step - loss: 0.0254\n",
      "Epoch 68/100\n",
      "1142/1142 [==============================] - 0s 90us/step - loss: 0.0271\n",
      "Epoch 69/100\n",
      "1142/1142 [==============================] - 0s 87us/step - loss: 0.0248\n",
      "Epoch 70/100\n",
      "1142/1142 [==============================] - 0s 84us/step - loss: 0.0249\n",
      "Epoch 71/100\n",
      "1142/1142 [==============================] - 0s 88us/step - loss: 0.0259: 0s - loss: 0.028\n",
      "Epoch 72/100\n",
      "1142/1142 [==============================] - 0s 84us/step - loss: 0.0263\n",
      "Epoch 73/100\n",
      "1142/1142 [==============================] - 0s 89us/step - loss: 0.0271: 0s - loss: 0.029\n",
      "Epoch 74/100\n",
      "1142/1142 [==============================] - 0s 86us/step - loss: 0.0260\n",
      "Epoch 75/100\n",
      "1142/1142 [==============================] - 0s 86us/step - loss: 0.0264\n",
      "Epoch 76/100\n",
      "1142/1142 [==============================] - 0s 89us/step - loss: 0.0243\n",
      "Epoch 77/100\n",
      "1142/1142 [==============================] - 0s 86us/step - loss: 0.0246\n",
      "Epoch 78/100\n"
     ]
    },
    {
     "name": "stdout",
     "output_type": "stream",
     "text": [
      "1142/1142 [==============================] - 0s 86us/step - loss: 0.0236\n",
      "Epoch 79/100\n",
      "1142/1142 [==============================] - ETA: 0s - loss: 0.025 - 0s 87us/step - loss: 0.0255\n",
      "Epoch 80/100\n",
      "1142/1142 [==============================] - 0s 84us/step - loss: 0.0231\n",
      "Epoch 81/100\n",
      "1142/1142 [==============================] - 0s 83us/step - loss: 0.0253\n",
      "Epoch 82/100\n",
      "1142/1142 [==============================] - 0s 105us/step - loss: 0.0254\n",
      "Epoch 83/100\n",
      "1142/1142 [==============================] - 0s 121us/step - loss: 0.0237\n",
      "Epoch 84/100\n",
      "1142/1142 [==============================] - 0s 106us/step - loss: 0.0229\n",
      "Epoch 85/100\n",
      "1142/1142 [==============================] - 0s 88us/step - loss: 0.0271\n",
      "Epoch 86/100\n",
      "1142/1142 [==============================] - 0s 91us/step - loss: 0.0233\n",
      "Epoch 87/100\n",
      "1142/1142 [==============================] - 0s 85us/step - loss: 0.0238\n",
      "Epoch 88/100\n",
      "1142/1142 [==============================] - 0s 88us/step - loss: 0.0236\n",
      "Epoch 89/100\n",
      "1142/1142 [==============================] - 0s 88us/step - loss: 0.0247\n",
      "Epoch 90/100\n",
      "1142/1142 [==============================] - 0s 88us/step - loss: 0.0224\n",
      "Epoch 91/100\n",
      "1142/1142 [==============================] - 0s 87us/step - loss: 0.0229\n",
      "Epoch 92/100\n",
      "1142/1142 [==============================] - 0s 89us/step - loss: 0.0229: 0s - loss: 0.020\n",
      "Epoch 93/100\n",
      "1142/1142 [==============================] - 0s 100us/step - loss: 0.0249\n",
      "Epoch 94/100\n",
      "1142/1142 [==============================] - 0s 91us/step - loss: 0.0247\n",
      "Epoch 95/100\n",
      "1142/1142 [==============================] - 0s 89us/step - loss: 0.0234\n",
      "Epoch 96/100\n",
      "1142/1142 [==============================] - 0s 101us/step - loss: 0.0245\n",
      "Epoch 97/100\n",
      "1142/1142 [==============================] - 0s 97us/step - loss: 0.0232\n",
      "Epoch 98/100\n",
      "1142/1142 [==============================] - 0s 90us/step - loss: 0.0233\n",
      "Epoch 99/100\n",
      "1142/1142 [==============================] - 0s 92us/step - loss: 0.0234\n",
      "Epoch 100/100\n",
      "1142/1142 [==============================] - 0s 96us/step - loss: 0.0221\n",
      "1142/1142 [==============================] - 0s 71us/step\n",
      "Train Score:  [[ 0.96526624]]\n",
      "491/491 [==============================] - 0s 39us/step\n",
      "Test Score:  [[ 0.73031797]]\n"
     ]
    }
   ],
   "source": [
    "model.fit(X_train, Y_train)\n",
    "print('Train Score: ', cos_scorer(Y_train, model.predict(X_train)))\n",
    "print('Test Score: ', cos_scorer(Y_test, model.predict(X_test)))"
   ]
  },
  {
   "cell_type": "code",
   "execution_count": null,
   "metadata": {},
   "outputs": [],
   "source": []
  }
 ],
 "metadata": {
  "kernelspec": {
   "display_name": "Python 3",
   "language": "python",
   "name": "python3"
  },
  "language_info": {
   "codemirror_mode": {
    "name": "ipython",
    "version": 3
   },
   "file_extension": ".py",
   "mimetype": "text/x-python",
   "name": "python",
   "nbconvert_exporter": "python",
   "pygments_lexer": "ipython3",
   "version": "3.4.3"
  }
 },
 "nbformat": 4,
 "nbformat_minor": 2
}
